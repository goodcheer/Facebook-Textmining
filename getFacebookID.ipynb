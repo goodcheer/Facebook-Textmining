{
 "cells": [
  {
   "cell_type": "markdown",
   "metadata": {},
   "source": [
    "<h4>Facebook 페이지의 ID를 얻어오기 위해 selenium을 이용한다.</h4>\n",
    "<p style=\"margin-left:10px font-size:10px\"><i>지금은 몇개 되지 않는 페이지의 ID를 얻으려고 하기 때문에 손으로 하는게 더 빠를 수 있지만, 추후 더 많은 페이지의 ID를 얻을 때를 대비하여 연습삼아 코드를 작성해본다.</i><p>\n",
    "\n",
    "1. 먼저 페이스북에서 수집하고자 하는 페이지의 이름을 검색하여 페이지 주소를 가져와야한다.\n",
    "<ul>\n",
    "    <li> chromedriver의 경로를 driver에 지정해준다. </li>\n",
    "    <li> driver.get()을 통해 facebook 페이지를 연다. </li>\n",
    "    <li> find_element_by_name: tag의 name을 찾아서 element를 리턴\n",
    "           <br>find_elements_by_name: 복수의 리턴</li>\n",
    "</ul>"
   ]
  },
  {
   "cell_type": "code",
   "execution_count": 134,
   "metadata": {
    "collapsed": true
   },
   "outputs": [],
   "source": [
    "from selenium import webdriver\n",
    "from selenium.webdriver.common.keys import Keys\n",
    "\n",
    "driver = webdriver.Chrome('C:/Users/kyuchul/Downloads/chromedriver')\n",
    "driver.get(\"https://www.facebook.com/\")"
   ]
  },
  {
   "cell_type": "code",
   "execution_count": 135,
   "metadata": {},
   "outputs": [
    {
     "name": "stdout",
     "output_type": "stream",
     "text": [
      "Enter a Passwordtkdans10305!\n"
     ]
    }
   ],
   "source": [
    "# facebook 로그인을 위한 아이디와 비밀번호\n",
    "email = \"goodcheer21@naver.com\"\n",
    "pw = input(\"Enter a Password\")\n",
    "\n",
    "# email 과 password 입력\n",
    "driver.find_element_by_name(\"email\").send_keys(email)\n",
    "elem = driver.find_element_by_name(\"pass\")\n",
    "elem.send_keys(pw)\n",
    "# 로그인 button 누름\n",
    "elem.send_keys(Keys.RETURN)\n",
    "driver.implicitly_wait(4)"
   ]
  },
  {
   "cell_type": "code",
   "execution_count": 136,
   "metadata": {},
   "outputs": [],
   "source": [
    "#이상한 팝업이 계속 떠서 닫기위해 넣은 코드\n",
    "driver.find_element_by_css_selector(\"a[action='cancel']\").click()"
   ]
  },
  {
   "cell_type": "code",
   "execution_count": 137,
   "metadata": {},
   "outputs": [
    {
     "data": {
      "text/plain": [
       "['성균관대학교 대나무숲',\n",
       " ' 연세대학교 대나무숲',\n",
       " ' 고려대학교 대나무숲',\n",
       " ' 한양대학교 대나무숲',\n",
       " ' 중앙대학교 대나무숲',\n",
       " ' 서강대학교 대나무숲',\n",
       " ' 서울대학교 대나무숲',\n",
       " ' 한국외대 대나무숲',\n",
       " ' 서울시립대 대나무숲',\n",
       " ' 숭실대학교 대나무숲',\n",
       " ' 건국대학교 대나무숲',\n",
       " ' 동국대학교 대나무숲',\n",
       " ' 홍익대학교 대나무숲',\n",
       " ' 경희대학교 대나무숲',\n",
       " ' 인하대학교 대나무숲',\n",
       " ' 한성대학교 대나무숲',\n",
       " ' 숙명여대 대나무숲',\n",
       " ' 경기대학교 대나무숲',\n",
       " ' 상명대학교 대나무숲',\n",
       " ' 서경대학교 대나무숲',\n",
       " ' 상지대학교 대나무숲',\n",
       " ' 한예종 대나무숲',\n",
       " ' 성신여대 대나무숲',\n",
       " ' 광운대학교 대나무숲',\n",
       " ' 충남대학교 대나무숲',\n",
       " ' 가톨릭대 대나무숲',\n",
       " ' 항공대학교 대나무숲',\n",
       " ' 부경대학교 대나무숲',\n",
       " ' 강남대학교 대나무숲',\n",
       " ' 동덕여대 대나무숲',\n",
       " ' 충북대학교 대나무숲',\n",
       " ' 동아대학교 대나무숲',\n",
       " ' 부산대학교 대나무숲',\n",
       " ' 서울과기대 대나무숲',\n",
       " ' 세종대학교 대나무숲',\n",
       " ' 아주대학교 대나무숲',\n",
       " ' 미대생대 대나무숲',\n",
       " ' 가천대학교 대나무숲',\n",
       " ' 공주대학교 대나무숲',\n",
       " ' 한밭대학교 대나무숲',\n",
       " ' 인천대학교 대나무숲',\n",
       " ' 김천대학교 대나무숲',\n",
       " ' 의학과 의예과대 대나무숲',\n",
       " ' 단국대학교 대나무숲',\n",
       " ' 경상대학교 대나무숲',\n",
       " ' 한국외대 글로벌캠퍼스 대나무숲',\n",
       " ' 순천대학교 대나무숲',\n",
       " ' 한국교통대학교 대나무숲',\n",
       " ' 서울여대 대나무숲',\n",
       " ' 백석예술대학교 대나무숲',\n",
       " '전대숲',\n",
       " '카이스트대신전해드립니다2']"
      ]
     },
     "execution_count": 137,
     "metadata": {},
     "output_type": "execute_result"
    }
   ],
   "source": [
    "a = '''성균관대학교, 연세대학교, 고려대학교, 한양대학교, 중앙대학교, 서강대학교, 서울대학교, 한국외대, 서울시립대, 숭실대학교, 건국대학교, 동국대학교, 홍익대학교, 경희대학교, 인하대학교, 한성대학교, 숙명여대, 경기대학교, 상명대학교, 서경대학교, 상지대학교, 한예종, 성신여대, 광운대학교, 충남대학교, 가톨릭대, 항공대학교, 부경대학교, 강남대학교, 동덕여대, 충북대학교, 동아대학교, 부산대학교, 서울과기대, 세종대학교, 아주대학교, 미대생대, 가천대학교, 공주대학교, 한밭대학교, 인천대학교, 김천대학교, 의학과 의예과대, 단국대학교, 경상대학교, 한국외대 글로벌캠퍼스, 순천대학교, 한국교통대학교, 서울여대, 백석예술대학교'''\n",
    "\n",
    "a = a.split(\",\")\n",
    "i = 0\n",
    "for i in range(len(a)):\n",
    "    a[i] = a[i] +\" 대나무숲\"\n",
    "a.append(\"전대숲\")\n",
    "a.append(\"카이스트대신전해드립니다2\")\n",
    "a\n"
   ]
  },
  {
   "cell_type": "code",
   "execution_count": 171,
   "metadata": {},
   "outputs": [],
   "source": [
    "univ = a\n",
    "\n",
    "urls = []\n",
    "id_urls = []\n",
    "\n",
    "# post가 존재하는 페이지에 도달했는지 확인하는 함수. \n",
    "# 페북 페이지면 True 반환\n",
    "def pageCheck():\n",
    "    flag = True\n",
    "    driver.implicitly_wait(4) #웹페이지가 로딩되는 시간을 기다려줘야한다.\n",
    "    \n",
    "    try:        \n",
    "        elem = driver.find_element_by_css_selector(\"div[class='_1dwg _1w_m']\")\n",
    "        temp = elem.find_element_by_css_selector(\"div[class='_38vo']\").find_element_by_css_selector(\"img\").get_attribute(\"aria-label\")\n",
    "        id_urls.append(temp) # 페이지 이름 추가\n",
    "    except:\n",
    "        flag = False\n",
    "        print(\"This is not a facebook page\")\n",
    "    return flag\n",
    "\n",
    "def srch_getUrl(name):\n",
    "    #검색바에서 이름 검색\n",
    "    search = driver.find_element_by_css_selector(\"input[aria-label='검색']\")\n",
    "    search.send_keys(name)\n",
    "    search.send_keys(Keys.RETURN)\n",
    "\n",
    "    # 검색 결과에서 일치하는 페이지 선택\n",
    "    try:\n",
    "        targets = driver.find_elements_by_css_selector(\"div[class='_32mo']\")\n",
    "\n",
    "    except:\n",
    "        # 이미 페북 페이지면 url을 추가\n",
    "        if pageCheck():\n",
    "            urls.append(driver.current_url)\n",
    "        #첫화면 복귀\n",
    "        driver.find_element_by_css_selector(\"a[class='_19eb']\").click()\n",
    "\n",
    "\n",
    "    else:\n",
    "        for t in targets:\n",
    "            # 첫 글자와 두번 째 글자가 검색 결과에 있는지로 확인\n",
    "            if name[0] in t.text and name[1] in t.text:\n",
    "                t.click()\n",
    "                \n",
    "                elem = driver.find_element_by_css_selector(\"div[class='_1dwg _1w_m']\")\n",
    "                temp = elem.find_element_by_css_selector(\"div[class='_38vo']\").find_element_by_css_selector(\"img\").get_attribute(\"aria-label\")\n",
    "                \n",
    "                id_urls.append(temp) # 페이지 이름 추가\n",
    "                urls.append(driver.current_url)\n",
    "                break\n",
    "        driver.find_element_by_css_selector(\"a[class='_19eb']\").click()\n",
    "\n",
    "for i in univ:\n",
    "    srch_getUrl(i)"
   ]
  },
  {
   "cell_type": "markdown",
   "metadata": {},
   "source": [
    "<p style=\"margin-left:10px\"> 3\\. 이제 페이지 url을 얻었으니, 페이지 코드를 얻으러 가자!\n",
    "<ul><li> https://findmyfbid.com/ 이곳에서 페이스북 url을 얻는다.</li></ul> </p>\n"
   ]
  },
  {
   "cell_type": "code",
   "execution_count": 176,
   "metadata": {},
   "outputs": [],
   "source": [
    "driver.get(\"https://findmyfbid.com/\")\n",
    "codes = []\n",
    "for i in urls:\n",
    "    a= driver.find_element_by_name(\"url\")\n",
    "    a.send_keys(i)\n",
    "    a.send_keys(Keys.RETURN)\n",
    "\n",
    "    driver.implicitly_wait(1)\n",
    "    my = driver.find_element_by_id(\"success-wrap\")\n",
    "    code = my.find_element_by_css_selector(\"code\")\n",
    "    codes.append(code.text)\n",
    "    driver.find_element_by_class_name(\"btn-primary\").click()\n",
    "\n"
   ]
  },
  {
   "cell_type": "code",
   "execution_count": 179,
   "metadata": {},
   "outputs": [
    {
     "name": "stdout",
     "output_type": "stream",
     "text": [
      "성균관대학교 대나무숲: 626784727386153\n",
      "한양대학교 대나무숲: 580434565381308\n",
      "중앙대학교 대나무숲: 190747347803005\n",
      "서강대학교 대나무숲: 413238928809895\n",
      "서울대학교 대나무숲: 560898400668463\n",
      "서울시립대 전전컴 대나무숲: 1125888694152357\n",
      "숭실대학교 대나무숲: 955124404520274\n",
      "건국대학교 대나무숲: 673218532724299\n",
      "동국대학교 대나무숲: 803001439761664\n",
      "홍익대학교 대나무숲: 785230788156980\n",
      "경희대학교 대나무숲: 482012061908784\n",
      "인하대학교 대나무숲: 1524972837824732\n",
      "한성대학교 대나무숲: 677938018927804\n",
      "경기대학교 대나무숲: 667047436762909\n",
      "상명대학교 대나무숲: 480400078794898\n",
      "서경대학교 대나무숲: 1059595334069150\n",
      "광운대학교 대나무숲: 137387743261549\n",
      "항공대학교 깨끗한 대나무숲: 411973912328361\n",
      "부경대학교 대나무숲: 1544718535795801\n",
      "강남대학교 대나무숲: 656557964448846\n",
      "충북대학교 대나무숲: 894675833928385\n",
      "동아대학교 대나무숲: 1595583040685763\n",
      "부산대학교 대나무숲: 336719066530613\n",
      "아주대학교 대나무숲: 383934228440070\n",
      "공주대학교 대나무숲: 1752182234798417\n",
      "한밭대학교 대나무숲: 1412730765644379\n",
      "인천대학교 대나무숲: 836263136433999\n",
      "김천대학교 대나무숲: 645950798832815\n",
      "단국대학교 대나무숲: 464596900352127\n",
      "국립 경상대학교 대나무숲: 271803333011537\n",
      "순천대학교 대나무숲: 290127507817758\n",
      "한국교통대학교 대나무숲: 323092997897016\n",
      "서울여대 대나무숲: 719196418124336\n",
      "백석예술대학교 사랑의 대나무숲: 1956015031298194\n",
      "Keo Jeong Kim: 385195464860287\n"
     ]
    }
   ],
   "source": [
    "for i in range(len(id_urls)):\n",
    "    print(id_urls[i]+\": \"+codes[i])"
   ]
  },
  {
   "cell_type": "markdown",
   "metadata": {},
   "source": [
    "<h4> 결론 </h4>\n",
    "\n",
    "결론적으로 제대로 긁어오진 못했다. (그리고 당연히 엄청 비효율적이었다.)\n",
    "페이스북 페이지 이름을 정확히 검색하지 않은 경우에, 전혀 엉뚱한 페이지에 들어가게 되었고, 그렇다고 정확한 검색 결과를 유도하는 알고리즘을 짜는 것은 불필요하게 복잡한 과정을 수반한다. \n",
    "이번처럼 50개의 페이지만 긁기 위해서 셀레니움을 쓰는 것은 굉장히 비효율적인것 같다. 한 페이지 10000개 이상의 id가 필요한 상황이면 할만할지도 모르겠다.\n",
    "\n",
    "그래도 오랜만에 python, html, css 연습을 할 수 있었다. ㅎㅎ 끗"
   ]
  }
 ],
 "metadata": {
  "kernelspec": {
   "display_name": "Python 3",
   "language": "python",
   "name": "python3"
  },
  "language_info": {
   "codemirror_mode": {
    "name": "ipython",
    "version": 3
   },
   "file_extension": ".py",
   "mimetype": "text/x-python",
   "name": "python",
   "nbconvert_exporter": "python",
   "pygments_lexer": "ipython3",
   "version": "3.6.1"
  }
 },
 "nbformat": 4,
 "nbformat_minor": 2
}
